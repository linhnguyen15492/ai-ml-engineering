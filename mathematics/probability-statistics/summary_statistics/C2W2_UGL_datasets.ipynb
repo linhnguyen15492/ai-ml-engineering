{
 "cells": [
  {
   "cell_type": "markdown",
   "id": "c6dea874",
   "metadata": {},
   "source": [
    "# Ungraded Lab - Summary Statistics\n",
    "\n",
    "In this notebook, you will be working with two distinct datasets. You will notice that relying solely on the main statistical measures such as mean, variance (or standard deviation), and correlation may not always effectively describe the datasets. Therefore, it is always advisable to supplement these measures with visualization techniques and/or other statistical measures to gain a deeper understanding of the data.\n",
    "\n",
    "You will be working with two well-known datasets: Anscombe's quartet and the Datasaurus Dozen dataset. These datasets are artificially generated and are used to illustrate the fact that some metrics can fail to capture important information present in a dataset. More specifically, these datasets are used to demonstrate how relying solely on metrics can sometimes be misleading. If you're interested, you can read more about Anscombe's quartet and the Datasaurus Dozen dataset at their respective [Wikipedia](https://en.wikipedia.org/wiki/Anscombe%27s_quartet) page and [Autodesk Research](https://damassets.autodesk.net/content/dam/autodesk/research/publications-assets/pdf/same-stats-different-graphs.pdf) article."
   ]
  },
  {
   "cell_type": "code",
   "execution_count": 1,
   "id": "a74d2cd6",
   "metadata": {},
   "outputs": [],
   "source": [
    "import numpy as np\n",
    "import pandas as pd\n",
    "import os\n",
    "import matplotlib.pyplot as plt\n",
    "import utils\n",
    "%matplotlib widget\n"
   ]
  },
  {
   "cell_type": "markdown",
   "id": "d084f9c7",
   "metadata": {},
   "source": [
    "# 1.1 First data set - Anscombe's quartet\n",
    "\n",
    "This first dataset was initially constructed by the statistician Francis Anscombe to demonstrate both the importance of graphing data when analyzing it, and the effect of outliers and other influential observations on statistical properties. (From wikipedia)\n",
    "\n",
    "To read the dataset, which is stored in a `.csv file`, you can use the read_csv function in pandas. This function enables you to load a DataFrame immediately. For further information on this function, you can type help(pd.read_csv) in your code editor."
   ]
  },
  {
   "cell_type": "code",
   "execution_count": 2,
   "id": "8a5ad75e",
   "metadata": {},
   "outputs": [],
   "source": [
    "# This line of code reads the dataset named 'df_anscombe.csv', which is stored in the same directory as this notebook.\n",
    "df_anscombe = pd.read_csv('df_anscombe.csv')"
   ]
  },
  {
   "cell_type": "markdown",
   "id": "9fac4348",
   "metadata": {},
   "source": [
    "The call `df_anscombe.head()` will show you the first five rows of the data set, so you can have a look on its data."
   ]
  },
  {
   "cell_type": "code",
   "execution_count": 3,
   "id": "a20f11a7",
   "metadata": {},
   "outputs": [
    {
     "data": {
      "text/html": [
       "<div>\n",
       "<style scoped>\n",
       "    .dataframe tbody tr th:only-of-type {\n",
       "        vertical-align: middle;\n",
       "    }\n",
       "\n",
       "    .dataframe tbody tr th {\n",
       "        vertical-align: top;\n",
       "    }\n",
       "\n",
       "    .dataframe thead th {\n",
       "        text-align: right;\n",
       "    }\n",
       "</style>\n",
       "<table border=\"1\" class=\"dataframe\">\n",
       "  <thead>\n",
       "    <tr style=\"text-align: right;\">\n",
       "      <th></th>\n",
       "      <th>x</th>\n",
       "      <th>y</th>\n",
       "      <th>group</th>\n",
       "    </tr>\n",
       "  </thead>\n",
       "  <tbody>\n",
       "    <tr>\n",
       "      <th>0</th>\n",
       "      <td>10.0</td>\n",
       "      <td>8.04</td>\n",
       "      <td>1</td>\n",
       "    </tr>\n",
       "    <tr>\n",
       "      <th>1</th>\n",
       "      <td>8.0</td>\n",
       "      <td>6.95</td>\n",
       "      <td>1</td>\n",
       "    </tr>\n",
       "    <tr>\n",
       "      <th>2</th>\n",
       "      <td>13.0</td>\n",
       "      <td>7.58</td>\n",
       "      <td>1</td>\n",
       "    </tr>\n",
       "    <tr>\n",
       "      <th>3</th>\n",
       "      <td>9.0</td>\n",
       "      <td>8.81</td>\n",
       "      <td>1</td>\n",
       "    </tr>\n",
       "    <tr>\n",
       "      <th>4</th>\n",
       "      <td>11.0</td>\n",
       "      <td>8.33</td>\n",
       "      <td>1</td>\n",
       "    </tr>\n",
       "  </tbody>\n",
       "</table>\n",
       "</div>"
      ],
      "text/plain": [
       "      x     y  group\n",
       "0  10.0  8.04      1\n",
       "1   8.0  6.95      1\n",
       "2  13.0  7.58      1\n",
       "3   9.0  8.81      1\n",
       "4  11.0  8.33      1"
      ]
     },
     "execution_count": 3,
     "metadata": {},
     "output_type": "execute_result"
    }
   ],
   "source": [
    "df_anscombe.head()"
   ]
  },
  {
   "cell_type": "code",
   "execution_count": 4,
   "id": "2080e010",
   "metadata": {},
   "outputs": [
    {
     "data": {
      "text/plain": [
       "4"
      ]
     },
     "execution_count": 4,
     "metadata": {},
     "output_type": "execute_result"
    }
   ],
   "source": [
    "# Let's determine the number of groups present in this dataset.\n",
    "df_anscombe.group.nunique()"
   ]
  },
  {
   "cell_type": "markdown",
   "id": "bd9ce36c",
   "metadata": {},
   "source": [
    "This dataset comprises of four groups of data, each containing two components - `x` and `y`. To analyze the data, you can obtain the mean and variance of each group, as well as the correlation between x and y within each group. Pandas provides a built-in function called `DataFrame.describe` that displays common statistics for each variable. To group the data by the group column, you can use the `DataFrame.groupby` function."
   ]
  },
  {
   "cell_type": "markdown",
   "id": "70946c36",
   "metadata": {},
   "source": [
    "The next block of code first groups the `DataFrame` based on the group column, and then applies the describe function to obtain the common statistics for each variable in each group."
   ]
  },
  {
   "cell_type": "code",
   "execution_count": 5,
   "id": "e66e9c08",
   "metadata": {},
   "outputs": [
    {
     "data": {
      "text/html": [
       "<div>\n",
       "<style scoped>\n",
       "    .dataframe tbody tr th:only-of-type {\n",
       "        vertical-align: middle;\n",
       "    }\n",
       "\n",
       "    .dataframe tbody tr th {\n",
       "        vertical-align: top;\n",
       "    }\n",
       "\n",
       "    .dataframe thead tr th {\n",
       "        text-align: left;\n",
       "    }\n",
       "\n",
       "    .dataframe thead tr:last-of-type th {\n",
       "        text-align: right;\n",
       "    }\n",
       "</style>\n",
       "<table border=\"1\" class=\"dataframe\">\n",
       "  <thead>\n",
       "    <tr>\n",
       "      <th></th>\n",
       "      <th colspan=\"8\" halign=\"left\">x</th>\n",
       "      <th colspan=\"8\" halign=\"left\">y</th>\n",
       "    </tr>\n",
       "    <tr>\n",
       "      <th></th>\n",
       "      <th>count</th>\n",
       "      <th>mean</th>\n",
       "      <th>std</th>\n",
       "      <th>min</th>\n",
       "      <th>25%</th>\n",
       "      <th>50%</th>\n",
       "      <th>75%</th>\n",
       "      <th>max</th>\n",
       "      <th>count</th>\n",
       "      <th>mean</th>\n",
       "      <th>std</th>\n",
       "      <th>min</th>\n",
       "      <th>25%</th>\n",
       "      <th>50%</th>\n",
       "      <th>75%</th>\n",
       "      <th>max</th>\n",
       "    </tr>\n",
       "    <tr>\n",
       "      <th>group</th>\n",
       "      <th></th>\n",
       "      <th></th>\n",
       "      <th></th>\n",
       "      <th></th>\n",
       "      <th></th>\n",
       "      <th></th>\n",
       "      <th></th>\n",
       "      <th></th>\n",
       "      <th></th>\n",
       "      <th></th>\n",
       "      <th></th>\n",
       "      <th></th>\n",
       "      <th></th>\n",
       "      <th></th>\n",
       "      <th></th>\n",
       "      <th></th>\n",
       "    </tr>\n",
       "  </thead>\n",
       "  <tbody>\n",
       "    <tr>\n",
       "      <th>1</th>\n",
       "      <td>11.0</td>\n",
       "      <td>9.0</td>\n",
       "      <td>3.316625</td>\n",
       "      <td>4.0</td>\n",
       "      <td>6.5</td>\n",
       "      <td>9.0</td>\n",
       "      <td>11.5</td>\n",
       "      <td>14.0</td>\n",
       "      <td>11.0</td>\n",
       "      <td>7.500909</td>\n",
       "      <td>2.031568</td>\n",
       "      <td>4.26</td>\n",
       "      <td>6.315</td>\n",
       "      <td>7.58</td>\n",
       "      <td>8.57</td>\n",
       "      <td>10.84</td>\n",
       "    </tr>\n",
       "    <tr>\n",
       "      <th>2</th>\n",
       "      <td>11.0</td>\n",
       "      <td>9.0</td>\n",
       "      <td>3.316625</td>\n",
       "      <td>4.0</td>\n",
       "      <td>6.5</td>\n",
       "      <td>9.0</td>\n",
       "      <td>11.5</td>\n",
       "      <td>14.0</td>\n",
       "      <td>11.0</td>\n",
       "      <td>7.500909</td>\n",
       "      <td>2.031657</td>\n",
       "      <td>3.10</td>\n",
       "      <td>6.695</td>\n",
       "      <td>8.14</td>\n",
       "      <td>8.95</td>\n",
       "      <td>9.26</td>\n",
       "    </tr>\n",
       "    <tr>\n",
       "      <th>3</th>\n",
       "      <td>11.0</td>\n",
       "      <td>9.0</td>\n",
       "      <td>3.316625</td>\n",
       "      <td>4.0</td>\n",
       "      <td>6.5</td>\n",
       "      <td>9.0</td>\n",
       "      <td>11.5</td>\n",
       "      <td>14.0</td>\n",
       "      <td>11.0</td>\n",
       "      <td>7.500000</td>\n",
       "      <td>2.030424</td>\n",
       "      <td>5.39</td>\n",
       "      <td>6.250</td>\n",
       "      <td>7.11</td>\n",
       "      <td>7.98</td>\n",
       "      <td>12.74</td>\n",
       "    </tr>\n",
       "    <tr>\n",
       "      <th>4</th>\n",
       "      <td>11.0</td>\n",
       "      <td>9.0</td>\n",
       "      <td>3.316625</td>\n",
       "      <td>8.0</td>\n",
       "      <td>8.0</td>\n",
       "      <td>8.0</td>\n",
       "      <td>8.0</td>\n",
       "      <td>19.0</td>\n",
       "      <td>11.0</td>\n",
       "      <td>7.500909</td>\n",
       "      <td>2.030579</td>\n",
       "      <td>5.25</td>\n",
       "      <td>6.170</td>\n",
       "      <td>7.04</td>\n",
       "      <td>8.19</td>\n",
       "      <td>12.50</td>\n",
       "    </tr>\n",
       "  </tbody>\n",
       "</table>\n",
       "</div>"
      ],
      "text/plain": [
       "          x                                               y            \\\n",
       "      count mean       std  min  25%  50%   75%   max count      mean   \n",
       "group                                                                   \n",
       "1      11.0  9.0  3.316625  4.0  6.5  9.0  11.5  14.0  11.0  7.500909   \n",
       "2      11.0  9.0  3.316625  4.0  6.5  9.0  11.5  14.0  11.0  7.500909   \n",
       "3      11.0  9.0  3.316625  4.0  6.5  9.0  11.5  14.0  11.0  7.500000   \n",
       "4      11.0  9.0  3.316625  8.0  8.0  8.0   8.0  19.0  11.0  7.500909   \n",
       "\n",
       "                                                 \n",
       "            std   min    25%   50%   75%    max  \n",
       "group                                            \n",
       "1      2.031568  4.26  6.315  7.58  8.57  10.84  \n",
       "2      2.031657  3.10  6.695  8.14  8.95   9.26  \n",
       "3      2.030424  5.39  6.250  7.11  7.98  12.74  \n",
       "4      2.030579  5.25  6.170  7.04  8.19  12.50  "
      ]
     },
     "execution_count": 5,
     "metadata": {},
     "output_type": "execute_result"
    }
   ],
   "source": [
    "df_anscombe.groupby('group').describe()"
   ]
  },
  {
   "cell_type": "markdown",
   "id": "02532823",
   "metadata": {},
   "source": [
    "The groups appear to be quite similar, as evidenced by the identical mean and standard deviation values for both `x` and `y` within each group.\n",
    "\n",
    "Additionally, you can analyze the correlation between `x` and `y` within each group.\n",
    "\n",
    "To obtain the correlation matrix for each group, you can follow the same approach as before. First, group the data by the `group` column using `DataFrame.groupby`, and then apply the `.corr` function."
   ]
  },
  {
   "cell_type": "code",
   "execution_count": 6,
   "id": "655b0377",
   "metadata": {},
   "outputs": [
    {
     "data": {
      "text/html": [
       "<div>\n",
       "<style scoped>\n",
       "    .dataframe tbody tr th:only-of-type {\n",
       "        vertical-align: middle;\n",
       "    }\n",
       "\n",
       "    .dataframe tbody tr th {\n",
       "        vertical-align: top;\n",
       "    }\n",
       "\n",
       "    .dataframe thead th {\n",
       "        text-align: right;\n",
       "    }\n",
       "</style>\n",
       "<table border=\"1\" class=\"dataframe\">\n",
       "  <thead>\n",
       "    <tr style=\"text-align: right;\">\n",
       "      <th></th>\n",
       "      <th></th>\n",
       "      <th>x</th>\n",
       "      <th>y</th>\n",
       "    </tr>\n",
       "    <tr>\n",
       "      <th>group</th>\n",
       "      <th></th>\n",
       "      <th></th>\n",
       "      <th></th>\n",
       "    </tr>\n",
       "  </thead>\n",
       "  <tbody>\n",
       "    <tr>\n",
       "      <th rowspan=\"2\" valign=\"top\">1</th>\n",
       "      <th>x</th>\n",
       "      <td>1.000000</td>\n",
       "      <td>0.816421</td>\n",
       "    </tr>\n",
       "    <tr>\n",
       "      <th>y</th>\n",
       "      <td>0.816421</td>\n",
       "      <td>1.000000</td>\n",
       "    </tr>\n",
       "    <tr>\n",
       "      <th rowspan=\"2\" valign=\"top\">2</th>\n",
       "      <th>x</th>\n",
       "      <td>1.000000</td>\n",
       "      <td>0.816237</td>\n",
       "    </tr>\n",
       "    <tr>\n",
       "      <th>y</th>\n",
       "      <td>0.816237</td>\n",
       "      <td>1.000000</td>\n",
       "    </tr>\n",
       "    <tr>\n",
       "      <th rowspan=\"2\" valign=\"top\">3</th>\n",
       "      <th>x</th>\n",
       "      <td>1.000000</td>\n",
       "      <td>0.816287</td>\n",
       "    </tr>\n",
       "    <tr>\n",
       "      <th>y</th>\n",
       "      <td>0.816287</td>\n",
       "      <td>1.000000</td>\n",
       "    </tr>\n",
       "    <tr>\n",
       "      <th rowspan=\"2\" valign=\"top\">4</th>\n",
       "      <th>x</th>\n",
       "      <td>1.000000</td>\n",
       "      <td>0.816521</td>\n",
       "    </tr>\n",
       "    <tr>\n",
       "      <th>y</th>\n",
       "      <td>0.816521</td>\n",
       "      <td>1.000000</td>\n",
       "    </tr>\n",
       "  </tbody>\n",
       "</table>\n",
       "</div>"
      ],
      "text/plain": [
       "                x         y\n",
       "group                      \n",
       "1     x  1.000000  0.816421\n",
       "      y  0.816421  1.000000\n",
       "2     x  1.000000  0.816237\n",
       "      y  0.816237  1.000000\n",
       "3     x  1.000000  0.816287\n",
       "      y  0.816287  1.000000\n",
       "4     x  1.000000  0.816521\n",
       "      y  0.816521  1.000000"
      ]
     },
     "execution_count": 6,
     "metadata": {},
     "output_type": "execute_result"
    }
   ],
   "source": [
    "df_anscombe.groupby('group').corr()"
   ]
  },
  {
   "cell_type": "markdown",
   "id": "facfef83",
   "metadata": {},
   "source": [
    "As observed, the correlation between `x` and `y` is identical within each group up to three decimal places. Moreover, the high correlation coefficient values suggest a strong linear correlation between `x` and `y` within each group.\n",
    "\n",
    "Despite the similarities in the statistical measures for the groups, it is still necessary to visualize the data to get a better understanding of the differences, if any."
   ]
  },
  {
   "cell_type": "code",
   "execution_count": 7,
   "id": "ba869efd",
   "metadata": {},
   "outputs": [
    {
     "data": {
      "application/vnd.jupyter.widget-view+json": {
       "model_id": "edeeededcfb241fc95ca1b2bba4f647f",
       "version_major": 2,
       "version_minor": 0
      },
      "image/png": "[encoded data removed]",
      "text/html": [
       "\n",
       "            <div style=\"display: inline-block;\">\n",
       "                <div class=\"jupyter-widgets widget-label\" style=\"text-align: center;\">\n",
       "                    Figure\n",
       "                </div>\n",
       "                <img src='data:image/png;base64,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' width=800.0/>\n",
       "            </div>\n",
       "        "
      ],
      "text/plain": [
       "Canvas(toolbar=Toolbar(toolitems=[('Home', 'Reset original view', 'home', 'home'), ('Back', 'Back to previous …"
      ]
     },
     "metadata": {},
     "output_type": "display_data"
    }
   ],
   "source": [
    "utils.plot_anscombes_quartet()"
   ]
  },
  {
   "cell_type": "markdown",
   "id": "af7aa0f3",
   "metadata": {},
   "source": [
    "Upon visualizing the data, the four groups appear to be quite distinct:\n",
    "\n",
    "1. The first group shows a clear linear relationship between `x` and `y`.\n",
    "2. The second group, on the other hand, exhibits a non-linear pattern, indicating that the usual Pearson correlation may not be appropriate to describe the dataset.\n",
    "3. The third group would be linear if it were not for a single outlier.\n",
    "4. The fourth group demonstrates that `y` can have different values for the same `x`, suggesting that there is no clear relationship between `x` and `y`. However, there is also an outlier in this group.\n",
    "\n",
    "These four groups illustrate that summary statistics alone are not sufficient for investigating data. Visualizing the data, analyzing possible outliers, and identifying more complex relationships are essential to gain a better understanding of the underlying patterns in the data."
   ]
  },
  {
   "cell_type": "markdown",
   "id": "4d829a1f",
   "metadata": {},
   "source": [
    "# 2 - Second data set - Datasaurus Dozen\n",
    "\n",
    "The creation of Anscombe's quartet inspired other authors to generate datasets that have different relationships among its points but share the same summary statistics. One such dataset is the Datasaurus Dozen, which was created by AutoDesk. \n",
    "\n",
    "In this case, you will take a different approach. Instead of analyzing summary statistics and then plotting the data points, you will compare two datasets from the dozen and compute their statistics."
   ]
  },
  {
   "cell_type": "code",
   "execution_count": 8,
   "id": "76d174b1",
   "metadata": {},
   "outputs": [],
   "source": [
    "df_datasaurus = pd.read_csv(\"datasaurus.csv\")"
   ]
  },
  {
   "cell_type": "markdown",
   "id": "f0aaf119",
   "metadata": {},
   "source": [
    "The next cell will run a widget where you can investigate this dataset, which has different groups in it."
   ]
  },
  {
   "cell_type": "code",
   "execution_count": 9,
   "id": "cc2eb2cc",
   "metadata": {},
   "outputs": [
    {
     "data": {
      "application/vnd.jupyter.widget-view+json": {
       "model_id": "62183e95902e4a93b3bad0b4e1b75cb0",
       "version_major": 2,
       "version_minor": 0
      },
      "text/plain": [
       "VBox(children=(HBox(children=(Dropdown(description='Data set 1: ', options=('dino', 'away', 'h_lines', 'v_line…"
      ]
     },
     "metadata": {},
     "output_type": "display_data"
    },
    {
     "data": {
      "application/vnd.jupyter.widget-view+json": {
       "model_id": "a80ee4ea04ff41c6ba1be3863bb794cd",
       "version_major": 2,
       "version_minor": 0
      },
      "image/png": "[encoded data removed]",
      "text/html": [
       "\n",
       "            <div style=\"display: inline-block;\">\n",
       "                <div class=\"jupyter-widgets widget-label\" style=\"text-align: center;\">\n",
       "                    Figure\n",
       "                </div>\n",
       "                <img src='data:image/png;base64,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' width=800.0/>\n",
       "            </div>\n",
       "        "
      ],
      "text/plain": [
       "Canvas(toolbar=Toolbar(toolitems=[('Home', 'Reset original view', 'home', 'home'), ('Back', 'Back to previous …"
      ]
     },
     "metadata": {},
     "output_type": "display_data"
    }
   ],
   "source": [
    "utils.display_widget()"
   ]
  },
  {
   "cell_type": "markdown",
   "id": "37513ad2",
   "metadata": {},
   "source": [
    "As you have observed, the first dataset was not an anomaly; it is possible to have different datasets with the same summary statistics. Hence, it is essential to keep in mind while analyzing data that the summary statistics alone may not provide a complete picture of the underlying patterns and relationships."
   ]
  },
  {
   "cell_type": "markdown",
   "id": "941c9278",
   "metadata": {},
   "source": [
    "Congratulations! You have completed this ungraded lab and now understand that summary statistics may not capture all the necessary information to describe your data accurately. Keep in mind that visualizations and more in-depth analyses are often needed to get a better understanding of your data."
   ]
  }
 ],
 "metadata": {
  "kernelspec": {
   "display_name": ".venv",
   "language": "python",
   "name": "python3"
  },
  "language_info": {
   "codemirror_mode": {
    "name": "ipython",
    "version": 3
   },
   "file_extension": ".py",
   "mimetype": "text/x-python",
   "name": "python",
   "nbconvert_exporter": "python",
   "pygments_lexer": "ipython3",
   "version": "3.11.2"
  }
 },
 "nbformat": 4,
 "nbformat_minor": 5
}
