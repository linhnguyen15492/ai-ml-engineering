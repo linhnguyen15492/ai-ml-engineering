{
 "cells": [
  {
   "cell_type": "markdown",
   "metadata": {
    "id": "NbHgrZs86Y6e"
   },
   "source": [
    "# Exploratory Data Analysis - Understanding Your Dataset\n",
    "\n",
    "Welcome to the second notebook of the exploratory data analysis (EDA) series, where you will get your hands dirty applying the skills you have learned in the course on an actual data problem, similar to those you might encouter in real life! This is a part of a series, which contains five notebooks, each of them placed on different weeks of this course. There is very little mathematics instruction in these notebooks, but rather practical implementations of the concepts you learned using various python libraries.\n",
    "\n",
    "For this notebook you will use the data on ridesharing in the year 2022 in the city of Chicago, which can be found [here](https://data.cityofchicago.org/Transportation/Transportation-Network-Providers-Trips/m6dm-c72p/data).\n",
    "\n",
    "We have already downloaded the dataset for you and put it in the folder together with this notebook. If you check the link above, you might notice that the dataset includes hundreds of millions of rows. This translates to tens of gigabytes and is too large for working in this environment. That's why the dataset has been preprocessed to include only the data from 2022 and downsampled by a factor of 100 to easily fit into the environment and make your experience more pleasant.\n",
    "\n",
    "In this notebook you will mostly use the Pandas library. If you are not familiar with it, you can check out the Pandas tutorial notebook.\n",
    "\n",
    "### Learning Objectives:\n",
    "In this notebook you will use the following concepts from the course in a practical setting:\n",
    " - Probability\n",
    " - Conditional probability\n",
    " - Distributions\n"
   ]
  },
  {
   "cell_type": "markdown",
   "metadata": {
    "id": "CmlrVEnd6Y6h"
   },
   "source": [
    "# 1. Import the Python Libraries\n",
    "\n",
    "As usual, the first thing you need to do is import the libraries that you will use in this notebook. `pandas` will help you load and manipulate data, while `matplotlib` will be used for plottting."
   ]
  },
  {
   "cell_type": "code",
   "execution_count": 1,
   "metadata": {
    "id": "OD7tmLwb6Y6j"
   },
   "outputs": [],
   "source": [
    "import pandas as pd\n",
    "import matplotlib.pyplot as plt"
   ]
  },
  {
   "cell_type": "markdown",
   "metadata": {
    "id": "P-0D8VcV6Y6o"
   },
   "source": [
    "# 2. Load the Dataset\n",
    "\n",
    "The next step is to load the dataset. The dataset has been downsampled by a factor of 100 to work smoothly in this environment."
   ]
  },
  {
   "cell_type": "code",
   "execution_count": 2,
   "metadata": {
    "id": "cFkYnbP66Y6o"
   },
   "outputs": [
    {
     "data": {
      "text/html": [
       "<div>\n",
       "<style scoped>\n",
       "    .dataframe tbody tr th:only-of-type {\n",
       "        vertical-align: middle;\n",
       "    }\n",
       "\n",
       "    .dataframe tbody tr th {\n",
       "        vertical-align: top;\n",
       "    }\n",
       "\n",
       "    .dataframe thead th {\n",
       "        text-align: right;\n",
       "    }\n",
       "</style>\n",
       "<table border=\"1\" class=\"dataframe\">\n",
       "  <thead>\n",
       "    <tr style=\"text-align: right;\">\n",
       "      <th></th>\n",
       "      <th>Trip ID</th>\n",
       "      <th>Trip Start Timestamp</th>\n",
       "      <th>Trip End Timestamp</th>\n",
       "      <th>Trip Seconds</th>\n",
       "      <th>Trip Miles</th>\n",
       "      <th>Pickup Census Tract</th>\n",
       "      <th>Dropoff Census Tract</th>\n",
       "      <th>Pickup Community Area</th>\n",
       "      <th>Dropoff Community Area</th>\n",
       "      <th>Fare</th>\n",
       "      <th>...</th>\n",
       "      <th>Trip Total</th>\n",
       "      <th>Shared Trip Authorized</th>\n",
       "      <th>Trips Pooled</th>\n",
       "      <th>Pickup Centroid Latitude</th>\n",
       "      <th>Pickup Centroid Longitude</th>\n",
       "      <th>Pickup Centroid Location</th>\n",
       "      <th>Dropoff Centroid Latitude</th>\n",
       "      <th>Dropoff Centroid Longitude</th>\n",
       "      <th>Dropoff Centroid Location</th>\n",
       "      <th>len_date</th>\n",
       "    </tr>\n",
       "  </thead>\n",
       "  <tbody>\n",
       "    <tr>\n",
       "      <th>0</th>\n",
       "      <td>04767642defd6a3825d089ae66183906a89b902d</td>\n",
       "      <td>2022-01-01</td>\n",
       "      <td>2022-01-01 01:15:00</td>\n",
       "      <td>3905.0</td>\n",
       "      <td>44.5</td>\n",
       "      <td>1.703104e+10</td>\n",
       "      <td>NaN</td>\n",
       "      <td>4.0</td>\n",
       "      <td>NaN</td>\n",
       "      <td>55.0</td>\n",
       "      <td>...</td>\n",
       "      <td>66.25</td>\n",
       "      <td>0</td>\n",
       "      <td>1</td>\n",
       "      <td>41.972563</td>\n",
       "      <td>-87.678846</td>\n",
       "      <td>POINT (-87.6788459662 41.9725625375)</td>\n",
       "      <td>NaN</td>\n",
       "      <td>NaN</td>\n",
       "      <td>NaN</td>\n",
       "      <td>16</td>\n",
       "    </tr>\n",
       "    <tr>\n",
       "      <th>1</th>\n",
       "      <td>138de88e19e045d9962f1f669e668f9dcdfbc9fd</td>\n",
       "      <td>2022-01-01</td>\n",
       "      <td>2022-01-01 00:30:00</td>\n",
       "      <td>2299.0</td>\n",
       "      <td>25.0</td>\n",
       "      <td>NaN</td>\n",
       "      <td>NaN</td>\n",
       "      <td>32.0</td>\n",
       "      <td>NaN</td>\n",
       "      <td>32.5</td>\n",
       "      <td>...</td>\n",
       "      <td>46.68</td>\n",
       "      <td>0</td>\n",
       "      <td>1</td>\n",
       "      <td>41.878866</td>\n",
       "      <td>-87.625192</td>\n",
       "      <td>POINT (-87.6251921424 41.8788655841)</td>\n",
       "      <td>NaN</td>\n",
       "      <td>NaN</td>\n",
       "      <td>NaN</td>\n",
       "      <td>16</td>\n",
       "    </tr>\n",
       "    <tr>\n",
       "      <th>2</th>\n",
       "      <td>249cb7bc8eea309aaa3ef941756df4f62a53a92a</td>\n",
       "      <td>2022-01-01</td>\n",
       "      <td>2022-01-01 00:00:00</td>\n",
       "      <td>275.0</td>\n",
       "      <td>1.5</td>\n",
       "      <td>NaN</td>\n",
       "      <td>NaN</td>\n",
       "      <td>40.0</td>\n",
       "      <td>38.0</td>\n",
       "      <td>7.5</td>\n",
       "      <td>...</td>\n",
       "      <td>8.52</td>\n",
       "      <td>0</td>\n",
       "      <td>1</td>\n",
       "      <td>41.792357</td>\n",
       "      <td>-87.617931</td>\n",
       "      <td>POINT (-87.6179313803 41.7923572233)</td>\n",
       "      <td>41.812949</td>\n",
       "      <td>-87.617860</td>\n",
       "      <td>POINT (-87.6178596758 41.8129489392)</td>\n",
       "      <td>16</td>\n",
       "    </tr>\n",
       "    <tr>\n",
       "      <th>3</th>\n",
       "      <td>36c8a2a4cd85fb32ae32170550d2a4d30b8df8a1</td>\n",
       "      <td>2022-01-01</td>\n",
       "      <td>2022-01-01 00:15:00</td>\n",
       "      <td>243.0</td>\n",
       "      <td>1.0</td>\n",
       "      <td>1.703106e+10</td>\n",
       "      <td>1.703106e+10</td>\n",
       "      <td>6.0</td>\n",
       "      <td>6.0</td>\n",
       "      <td>5.0</td>\n",
       "      <td>...</td>\n",
       "      <td>7.36</td>\n",
       "      <td>0</td>\n",
       "      <td>1</td>\n",
       "      <td>41.936310</td>\n",
       "      <td>-87.651563</td>\n",
       "      <td>POINT (-87.6515625922 41.9363101308)</td>\n",
       "      <td>41.943155</td>\n",
       "      <td>-87.640698</td>\n",
       "      <td>POINT (-87.640698076 41.9431550855)</td>\n",
       "      <td>16</td>\n",
       "    </tr>\n",
       "    <tr>\n",
       "      <th>4</th>\n",
       "      <td>493f7bbcba1d96bf10bd579fe1c4b7ddb95fd3a6</td>\n",
       "      <td>2022-01-01</td>\n",
       "      <td>2022-01-01 00:15:00</td>\n",
       "      <td>364.0</td>\n",
       "      <td>1.3</td>\n",
       "      <td>1.703107e+10</td>\n",
       "      <td>1.703106e+10</td>\n",
       "      <td>7.0</td>\n",
       "      <td>6.0</td>\n",
       "      <td>5.0</td>\n",
       "      <td>...</td>\n",
       "      <td>7.36</td>\n",
       "      <td>0</td>\n",
       "      <td>1</td>\n",
       "      <td>41.921855</td>\n",
       "      <td>-87.646211</td>\n",
       "      <td>POINT (-87.6462109769 41.9218549112)</td>\n",
       "      <td>41.936237</td>\n",
       "      <td>-87.656412</td>\n",
       "      <td>POINT (-87.6564115308 41.9362371791)</td>\n",
       "      <td>16</td>\n",
       "    </tr>\n",
       "  </tbody>\n",
       "</table>\n",
       "<p>5 rows × 22 columns</p>\n",
       "</div>"
      ],
      "text/plain": [
       "                                    Trip ID Trip Start Timestamp  \\\n",
       "0  04767642defd6a3825d089ae66183906a89b902d           2022-01-01   \n",
       "1  138de88e19e045d9962f1f669e668f9dcdfbc9fd           2022-01-01   \n",
       "2  249cb7bc8eea309aaa3ef941756df4f62a53a92a           2022-01-01   \n",
       "3  36c8a2a4cd85fb32ae32170550d2a4d30b8df8a1           2022-01-01   \n",
       "4  493f7bbcba1d96bf10bd579fe1c4b7ddb95fd3a6           2022-01-01   \n",
       "\n",
       "   Trip End Timestamp  Trip Seconds  Trip Miles  Pickup Census Tract  \\\n",
       "0 2022-01-01 01:15:00        3905.0        44.5         1.703104e+10   \n",
       "1 2022-01-01 00:30:00        2299.0        25.0                  NaN   \n",
       "2 2022-01-01 00:00:00         275.0         1.5                  NaN   \n",
       "3 2022-01-01 00:15:00         243.0         1.0         1.703106e+10   \n",
       "4 2022-01-01 00:15:00         364.0         1.3         1.703107e+10   \n",
       "\n",
       "   Dropoff Census Tract  Pickup Community Area  Dropoff Community Area  Fare  \\\n",
       "0                   NaN                    4.0                     NaN  55.0   \n",
       "1                   NaN                   32.0                     NaN  32.5   \n",
       "2                   NaN                   40.0                    38.0   7.5   \n",
       "3          1.703106e+10                    6.0                     6.0   5.0   \n",
       "4          1.703106e+10                    7.0                     6.0   5.0   \n",
       "\n",
       "   ...  Trip Total  Shared Trip Authorized  Trips Pooled  \\\n",
       "0  ...       66.25                       0             1   \n",
       "1  ...       46.68                       0             1   \n",
       "2  ...        8.52                       0             1   \n",
       "3  ...        7.36                       0             1   \n",
       "4  ...        7.36                       0             1   \n",
       "\n",
       "   Pickup Centroid Latitude  Pickup Centroid Longitude  \\\n",
       "0                 41.972563                 -87.678846   \n",
       "1                 41.878866                 -87.625192   \n",
       "2                 41.792357                 -87.617931   \n",
       "3                 41.936310                 -87.651563   \n",
       "4                 41.921855                 -87.646211   \n",
       "\n",
       "               Pickup Centroid Location  Dropoff Centroid Latitude  \\\n",
       "0  POINT (-87.6788459662 41.9725625375)                        NaN   \n",
       "1  POINT (-87.6251921424 41.8788655841)                        NaN   \n",
       "2  POINT (-87.6179313803 41.7923572233)                  41.812949   \n",
       "3  POINT (-87.6515625922 41.9363101308)                  41.943155   \n",
       "4  POINT (-87.6462109769 41.9218549112)                  41.936237   \n",
       "\n",
       "  Dropoff Centroid Longitude             Dropoff Centroid Location  len_date  \n",
       "0                        NaN                                   NaN        16  \n",
       "1                        NaN                                   NaN        16  \n",
       "2                 -87.617860  POINT (-87.6178596758 41.8129489392)        16  \n",
       "3                 -87.640698   POINT (-87.640698076 41.9431550855)        16  \n",
       "4                 -87.656412  POINT (-87.6564115308 41.9362371791)        16  \n",
       "\n",
       "[5 rows x 22 columns]"
      ]
     },
     "execution_count": 2,
     "metadata": {},
     "output_type": "execute_result"
    }
   ],
   "source": [
    "# Open the dataset\n",
    "df = pd.read_csv(\"data/rideshare_2022.csv\", parse_dates=['Trip Start Timestamp', 'Trip End Timestamp'])\n",
    "\n",
    "# Show the first five rows of the dataset\n",
    "df.head()"
   ]
  },
  {
   "cell_type": "markdown",
   "metadata": {
    "id": "3a5MEJiA6Y6z"
   },
   "source": [
    "# 3 Explore the Dataset\n",
    "\n",
    "In the cell above, you have opened the dataset and displayed the first five rows. Have a closer look at the output of the cell above. The dataset consists of the following columns:\n",
    "\n",
    "- `Trip ID`: A unique identifier for the trip.\n",
    "\n",
    "\n",
    "- `Trip Start Timestamp`: When the trip started, rounded to the nearest 15 minutes.\n",
    "\n",
    "\n",
    "- `Trip End Timestamp`: When the trip ended, rounded to the nearest 15 minutes.\n",
    "\n",
    "\n",
    "- `Trip Seconds`: Time of the trip in seconds.\n",
    "\n",
    "\n",
    "- `Trip Miles`: Distance of the trip in miles.\n",
    "\n",
    "\n",
    "- `Pickup Census Tract`: The Census Tract where the trip began. This column often will be blank for locations outside Chicago.\n",
    "\n",
    "\n",
    "- `Dropoff Census Tract`: The Census Tract where the trip ended. This column often will be blank for locations outside Chicago.\n",
    "\n",
    "\n",
    "- `Pickup Community Area`: The Community Area where the trip began. This column will be blank for locations outside Chicago.\n",
    "\n",
    "\n",
    "- `Dropoff Community Area`: The Community Area where the trip ended. This column will be blank for locations outside Chicago.\n",
    "\n",
    "\n",
    "- `Fare`: The fare for the trip, rounded to the nearest $2.50. \n",
    "\n",
    "\n",
    "- `Tip`: The tip for the trip, rounded to the nearest $1.00. Cash tips will not be recorded.\n",
    "\n",
    "\n",
    "- `Additional Charges`: The taxes, fees, and any other charges for the trip.\n",
    "\n",
    "\n",
    "- `Trip Total`: Total cost of the trip. This is calculated as the total of the previous columns, including rounding.\n",
    "\n",
    "\n",
    "- `Shared Trip Authorized`: Whether the customer agreed to a shared trip with another customer, regardless of whether the customer was actually matched for a shared trip.\n",
    "\n",
    "\n",
    "- `Trips Pooled`: If customers were matched for a shared trip, how many trips, including this one, were pooled. All customer trips from the time the vehicle was empty until it was empty again contribute to this count, even if some customers were never present in the vehicle at the same time. Each trip making up the overall shared trip will have a separate record in this dataset, with the same value in this column.\n",
    "\n",
    "\n",
    "- `Pickup Centroid Latitude`: The latitude of the center of the pickup census tract or the community area if the census tract has been hidden for privacy. This column often will be blank for locations outside Chicago.\n",
    "\n",
    "\n",
    "- `Pickup Centroid Longitude`: The longitude of the center of the pickup census tract or the community area if the census tract has been hidden for privacy. This column often will be blank for locations outside Chicago.\n",
    "\n",
    "\n",
    "- `Pickup Centroid Location`: The location of the center of the pickup census tract or the community area if the census tract has been hidden for privacy. This column often will be blank for locations outside Chicago.\n",
    "\n",
    "\n",
    "- `Dropoff Centroid Latitude`: The latitude of the center of the dropoff census tract or the community area if the census tract has been hidden for privacy. This column often will be blank for locations outside Chicago.\n",
    "\n",
    "\n",
    "- `Dropoff Centroid Longitude`: The longitude of the center of the dropoff census tract or the community area if the census tract has been hidden for privacy. This column often will be blank for locations outside Chicago.\n",
    "\n",
    "\n",
    "- `Dropoff Centroid Location`: The location of the center of the dropoff census tract or the community area if the census tract has been hidden for privacy. This column often will be blank for locations outside Chicago.\n",
    "\n",
    "\n",
    "Run the cell below to print out the column names and inspect the number of non-null values and the data type of each column. "
   ]
  },
  {
   "cell_type": "code",
   "execution_count": 3,
   "metadata": {
    "id": "Hgsc-THO6Y67"
   },
   "outputs": [
    {
     "name": "stdout",
     "output_type": "stream",
     "text": [
      "<class 'pandas.core.frame.DataFrame'>\n",
      "RangeIndex: 691098 entries, 0 to 691097\n",
      "Data columns (total 22 columns):\n",
      " #   Column                      Non-Null Count   Dtype         \n",
      "---  ------                      --------------   -----         \n",
      " 0   Trip ID                     691098 non-null  object        \n",
      " 1   Trip Start Timestamp        691098 non-null  datetime64[ns]\n",
      " 2   Trip End Timestamp          691098 non-null  datetime64[ns]\n",
      " 3   Trip Seconds                691073 non-null  float64       \n",
      " 4   Trip Miles                  691096 non-null  float64       \n",
      " 5   Pickup Census Tract         398943 non-null  float64       \n",
      " 6   Dropoff Census Tract        397574 non-null  float64       \n",
      " 7   Pickup Community Area       633092 non-null  float64       \n",
      " 8   Dropoff Community Area      630431 non-null  float64       \n",
      " 9   Fare                        689952 non-null  float64       \n",
      " 10  Tip                         689952 non-null  float64       \n",
      " 11  Additional Charges          689952 non-null  float64       \n",
      " 12  Trip Total                  689952 non-null  float64       \n",
      " 13  Shared Trip Authorized      691098 non-null  int64         \n",
      " 14  Trips Pooled                691098 non-null  int64         \n",
      " 15  Pickup Centroid Latitude    635075 non-null  float64       \n",
      " 16  Pickup Centroid Longitude   635075 non-null  float64       \n",
      " 17  Pickup Centroid Location    635075 non-null  object        \n",
      " 18  Dropoff Centroid Latitude   632163 non-null  float64       \n",
      " 19  Dropoff Centroid Longitude  632163 non-null  float64       \n",
      " 20  Dropoff Centroid Location   632163 non-null  object        \n",
      " 21  len_date                    691098 non-null  int64         \n",
      "dtypes: datetime64[ns](2), float64(14), int64(3), object(3)\n",
      "memory usage: 116.0+ MB\n"
     ]
    }
   ],
   "source": [
    "df.info()"
   ]
  },
  {
   "cell_type": "markdown",
   "metadata": {
    "id": "SwblIuyEzaB9"
   },
   "source": [
    "## 3.1 Select columns of interest\n",
    "\n",
    "At this point, you have seen what the dataset looks like. Take a moment to think of your next steps. Which columns would you explore further? Is there a column that has a problematic number of null values? Are there any columns that you are not interested in?\n",
    "\n",
    "For exploratory data analysis it is perfectly fine to select only the columns that you are interested in and drop the remainder. This will not only make your dataframe easier to work with, but also reduce its size, making your operations faster.\n",
    "\n",
    "In the cell below you will select a subset of the columns, which are the ones you will be interested in for this notebook. If you keep only the columns that are pre-selected in the cell below, you will reduce the file size by about a half. This can make a difference of whether you can fit the file into the memory or not, especially with larger files. This code will also rename the columns to remove white spaces."
   ]
  },
  {
   "cell_type": "code",
   "execution_count": 4,
   "metadata": {},
   "outputs": [
    {
     "name": "stdout",
     "output_type": "stream",
     "text": [
      "<class 'pandas.core.frame.DataFrame'>\n",
      "RangeIndex: 691098 entries, 0 to 691097\n",
      "Data columns (total 13 columns):\n",
      " #   Column                      Non-Null Count   Dtype         \n",
      "---  ------                      --------------   -----         \n",
      " 0   trip_start_timestamp        691098 non-null  datetime64[ns]\n",
      " 1   trip_seconds                691073 non-null  float64       \n",
      " 2   trip_miles                  691096 non-null  float64       \n",
      " 3   fare                        689952 non-null  float64       \n",
      " 4   tip                         689952 non-null  float64       \n",
      " 5   additional_charges          689952 non-null  float64       \n",
      " 6   trip_total                  689952 non-null  float64       \n",
      " 7   shared_trip_authorized      691098 non-null  int64         \n",
      " 8   trips_pooled                691098 non-null  int64         \n",
      " 9   pickup_centroid_latitude    635075 non-null  float64       \n",
      " 10  pickup_centroid_longitude   635075 non-null  float64       \n",
      " 11  dropoff_centroid_latitude   632163 non-null  float64       \n",
      " 12  dropoff_centroid_longitude  632163 non-null  float64       \n",
      "dtypes: datetime64[ns](1), float64(10), int64(2)\n",
      "memory usage: 68.5 MB\n"
     ]
    }
   ],
   "source": [
    "columns_of_interest = ['Trip Start Timestamp', 'Trip Seconds',\n",
    "       'Trip Miles', 'Fare', 'Tip', 'Additional Charges', 'Trip Total', 'Shared Trip Authorized',\n",
    "       'Trips Pooled', 'Pickup Centroid Latitude', 'Pickup Centroid Longitude', 'Dropoff Centroid Latitude',\n",
    "       'Dropoff Centroid Longitude']\n",
    "\n",
    "df = df[columns_of_interest]\n",
    "\n",
    "# Rename all the columns to not include whitespace\n",
    "df = df.rename(columns={i: \"_\".join(i.split(\" \")).lower() for i in df.columns})\n",
    "\n",
    "# Check the info on the cleaned-up dataset\n",
    "df.info()"
   ]
  },
  {
   "cell_type": "markdown",
   "metadata": {
    "id": "zG8VrKgjqxZY"
   },
   "source": [
    "# 4. Visualize the data\n",
    "\n",
    "To understand the data better, it often makes sense to visualize it. This helps you understand how the data is distributed. You can start by plotting the number of rides in a given day. For this it would be useful to have another column that just contains the date. The code in the cell below will create a new column which takes the `trip_start_timestamp` and converts it into a date."
   ]
  },
  {
   "cell_type": "code",
   "execution_count": 5,
   "metadata": {},
   "outputs": [
    {
     "data": {
      "text/html": [
       "<div>\n",
       "<style scoped>\n",
       "    .dataframe tbody tr th:only-of-type {\n",
       "        vertical-align: middle;\n",
       "    }\n",
       "\n",
       "    .dataframe tbody tr th {\n",
       "        vertical-align: top;\n",
       "    }\n",
       "\n",
       "    .dataframe thead th {\n",
       "        text-align: right;\n",
       "    }\n",
       "</style>\n",
       "<table border=\"1\" class=\"dataframe\">\n",
       "  <thead>\n",
       "    <tr style=\"text-align: right;\">\n",
       "      <th></th>\n",
       "      <th>trip_start_timestamp</th>\n",
       "      <th>trip_seconds</th>\n",
       "      <th>trip_miles</th>\n",
       "      <th>fare</th>\n",
       "      <th>tip</th>\n",
       "      <th>additional_charges</th>\n",
       "      <th>trip_total</th>\n",
       "      <th>shared_trip_authorized</th>\n",
       "      <th>trips_pooled</th>\n",
       "      <th>pickup_centroid_latitude</th>\n",
       "      <th>pickup_centroid_longitude</th>\n",
       "      <th>dropoff_centroid_latitude</th>\n",
       "      <th>dropoff_centroid_longitude</th>\n",
       "      <th>date</th>\n",
       "    </tr>\n",
       "  </thead>\n",
       "  <tbody>\n",
       "    <tr>\n",
       "      <th>0</th>\n",
       "      <td>2022-01-01</td>\n",
       "      <td>3905.0</td>\n",
       "      <td>44.5</td>\n",
       "      <td>55.0</td>\n",
       "      <td>0.0</td>\n",
       "      <td>11.25</td>\n",
       "      <td>66.25</td>\n",
       "      <td>0</td>\n",
       "      <td>1</td>\n",
       "      <td>41.972563</td>\n",
       "      <td>-87.678846</td>\n",
       "      <td>NaN</td>\n",
       "      <td>NaN</td>\n",
       "      <td>2022-01-01</td>\n",
       "    </tr>\n",
       "    <tr>\n",
       "      <th>1</th>\n",
       "      <td>2022-01-01</td>\n",
       "      <td>2299.0</td>\n",
       "      <td>25.0</td>\n",
       "      <td>32.5</td>\n",
       "      <td>7.0</td>\n",
       "      <td>7.18</td>\n",
       "      <td>46.68</td>\n",
       "      <td>0</td>\n",
       "      <td>1</td>\n",
       "      <td>41.878866</td>\n",
       "      <td>-87.625192</td>\n",
       "      <td>NaN</td>\n",
       "      <td>NaN</td>\n",
       "      <td>2022-01-01</td>\n",
       "    </tr>\n",
       "    <tr>\n",
       "      <th>2</th>\n",
       "      <td>2022-01-01</td>\n",
       "      <td>275.0</td>\n",
       "      <td>1.5</td>\n",
       "      <td>7.5</td>\n",
       "      <td>0.0</td>\n",
       "      <td>1.02</td>\n",
       "      <td>8.52</td>\n",
       "      <td>0</td>\n",
       "      <td>1</td>\n",
       "      <td>41.792357</td>\n",
       "      <td>-87.617931</td>\n",
       "      <td>41.812949</td>\n",
       "      <td>-87.617860</td>\n",
       "      <td>2022-01-01</td>\n",
       "    </tr>\n",
       "    <tr>\n",
       "      <th>3</th>\n",
       "      <td>2022-01-01</td>\n",
       "      <td>243.0</td>\n",
       "      <td>1.0</td>\n",
       "      <td>5.0</td>\n",
       "      <td>0.0</td>\n",
       "      <td>2.36</td>\n",
       "      <td>7.36</td>\n",
       "      <td>0</td>\n",
       "      <td>1</td>\n",
       "      <td>41.936310</td>\n",
       "      <td>-87.651563</td>\n",
       "      <td>41.943155</td>\n",
       "      <td>-87.640698</td>\n",
       "      <td>2022-01-01</td>\n",
       "    </tr>\n",
       "    <tr>\n",
       "      <th>4</th>\n",
       "      <td>2022-01-01</td>\n",
       "      <td>364.0</td>\n",
       "      <td>1.3</td>\n",
       "      <td>5.0</td>\n",
       "      <td>0.0</td>\n",
       "      <td>2.36</td>\n",
       "      <td>7.36</td>\n",
       "      <td>0</td>\n",
       "      <td>1</td>\n",
       "      <td>41.921855</td>\n",
       "      <td>-87.646211</td>\n",
       "      <td>41.936237</td>\n",
       "      <td>-87.656412</td>\n",
       "      <td>2022-01-01</td>\n",
       "    </tr>\n",
       "  </tbody>\n",
       "</table>\n",
       "</div>"
      ],
      "text/plain": [
       "  trip_start_timestamp  trip_seconds  trip_miles  fare  tip  \\\n",
       "0           2022-01-01        3905.0        44.5  55.0  0.0   \n",
       "1           2022-01-01        2299.0        25.0  32.5  7.0   \n",
       "2           2022-01-01         275.0         1.5   7.5  0.0   \n",
       "3           2022-01-01         243.0         1.0   5.0  0.0   \n",
       "4           2022-01-01         364.0         1.3   5.0  0.0   \n",
       "\n",
       "   additional_charges  trip_total  shared_trip_authorized  trips_pooled  \\\n",
       "0               11.25       66.25                       0             1   \n",
       "1                7.18       46.68                       0             1   \n",
       "2                1.02        8.52                       0             1   \n",
       "3                2.36        7.36                       0             1   \n",
       "4                2.36        7.36                       0             1   \n",
       "\n",
       "   pickup_centroid_latitude  pickup_centroid_longitude  \\\n",
       "0                 41.972563                 -87.678846   \n",
       "1                 41.878866                 -87.625192   \n",
       "2                 41.792357                 -87.617931   \n",
       "3                 41.936310                 -87.651563   \n",
       "4                 41.921855                 -87.646211   \n",
       "\n",
       "   dropoff_centroid_latitude  dropoff_centroid_longitude       date  \n",
       "0                        NaN                         NaN 2022-01-01  \n",
       "1                        NaN                         NaN 2022-01-01  \n",
       "2                  41.812949                  -87.617860 2022-01-01  \n",
       "3                  41.943155                  -87.640698 2022-01-01  \n",
       "4                  41.936237                  -87.656412 2022-01-01  "
      ]
     },
     "execution_count": 5,
     "metadata": {},
     "output_type": "execute_result"
    }
   ],
   "source": [
    "df['date'] = pd.to_datetime(df['trip_start_timestamp'].dt.date)\n",
    "\n",
    "df.head()"
   ]
  },
  {
   "cell_type": "code",
   "execution_count": 6,
   "metadata": {
    "id": "ES0VTQgy6Y7Q",
    "scrolled": true
   },
   "outputs": [
    {
     "data": {
      "text/plain": [
       "array([[<Axes: title={'center': 'date'}>]], dtype=object)"
      ]
     },
     "execution_count": 6,
     "metadata": {},
     "output_type": "execute_result"
    },
    {
     "data": {
      "image/png": "[encoded data removed]",
      "text/plain": [
       "<Figure size 640x480 with 1 Axes>"
      ]
     },
     "metadata": {},
     "output_type": "display_data"
    }
   ],
   "source": [
    "# Select the column which you want to plot.\n",
    "column_to_plot = 'date'\n",
    "\n",
    "# Plot the histogram of the desired column\n",
    "df.hist(column_to_plot, density=True)"
   ]
  },
  {
   "cell_type": "markdown",
   "metadata": {},
   "source": [
    "What you have plotted above is the distribution of the rides throughout the year. Note the code above also set the `dentsity=True`. This is so that the histogram is scaled to look like a probability density function like the ones you saw on Lesson 2. This means scaling the plot so that the area of the bars equals 1. What does this distribution look like to you? Is it similar to any of the distributions you saw in the videos? \n",
    "\n",
    "Although the distribution is slightly smaller for earlier dates, you could probably say that the rides are quite uniformly distributed throughout the year. Just note that this is not the actual distribution of the dates of cab rides, but rather an estimate based on the observations you have. Since this is real-world data, there are some fluctuations.\n",
    "\n",
    "Now change the `column_to_plot` variable above to some other column name to observe the distributions of other variables. Some interesting ones might be `fare`, `tip` or `trip_length`. These variables can tell you how far drivers have to drive and how much they are getting paid for it.\n",
    "\n",
    "Lets look together at the `tip` column."
   ]
  },
  {
   "cell_type": "code",
   "execution_count": 7,
   "metadata": {},
   "outputs": [
    {
     "data": {
      "image/png": "[encoded data removed]",
      "text/plain": [
       "<Figure size 640x480 with 1 Axes>"
      ]
     },
     "metadata": {},
     "output_type": "display_data"
    }
   ],
   "source": [
    "# Select the column which you want to plot.\n",
    "column_to_plot = 'tip'\n",
    "\n",
    "# Plot the histogram of the desired column\n",
    "df.hist(column_to_plot, density=True, bins = 100);"
   ]
  },
  {
   "cell_type": "markdown",
   "metadata": {
    "id": "B-T11ts_sGjq"
   },
   "source": [
    "What can you say about the distribution of tips? This one looks a bit weird, right? What could explain this strange distribution? What do you think the large bar on the left corresponds to?\n",
    "\n",
    "What is actually happening here is that the majority of the people do not tip, and that's why you see a large bar at tip = 0. \n",
    "\n",
    "Based on the data, you can calculate the probability of the customer tipping. You can do this by simply calculating the proportion of customers that actually tipped from the total number of rides."
   ]
  },
  {
   "cell_type": "code",
   "execution_count": 8,
   "metadata": {},
   "outputs": [
    {
     "name": "stdout",
     "output_type": "stream",
     "text": [
      "The percentage of riders who tip is 25%.\n"
     ]
    }
   ],
   "source": [
    "# Create a boolean series that distinguishes between tippers and no-tippers\n",
    "tippers = df['tip'] > 0\n",
    "# Count the number of tippers\n",
    "number_of_tippers = tippers.sum()\n",
    "# Count the total number of rides\n",
    "total_rides = len(df)\n",
    "\n",
    "# Calculate the fraction of people who tip\n",
    "fraction_of_tippers = number_of_tippers / total_rides\n",
    "print(f'The percentage of riders who tip is {fraction_of_tippers*100:.0f}%.')"
   ]
  },
  {
   "cell_type": "markdown",
   "metadata": {},
   "source": [
    "In the next cell you will create a new dataframe, where you will remove the non-tippers (the ones who gave a tip of zero). Then you can replot the histogram and see how it looks without the large bar at tip = 0."
   ]
  },
  {
   "cell_type": "code",
   "execution_count": 9,
   "metadata": {
    "id": "8FN5aUIuvCzN"
   },
   "outputs": [
    {
     "data": {
      "image/png": "[encoded data removed]",
      "text/plain": [
       "<Figure size 640x480 with 1 Axes>"
      ]
     },
     "metadata": {},
     "output_type": "display_data"
    }
   ],
   "source": [
    "# Create a dataframe That only consists of tippers (conditioned on the boolean series)\n",
    "df_tippers = df[tippers]\n",
    "\n",
    "# Now re-plot the above histogram, but only for tippers\n",
    "df_tippers.hist('tip', density=True, bins = 100);"
   ]
  },
  {
   "cell_type": "markdown",
   "metadata": {
    "id": "wdDhD8Sv7_LS"
   },
   "source": [
    "You can see now that the distribution got a much more interesting shape. What you are actually doing here is conditioning the original variable `tip`. You are ploting the distribution of tips given that a tip was actually given, or given that `tip>0` if you want it in mathematical terms. In other words, you are discarding part of your data, where `tip=0`, and finding the distribution of the remaining data.\n",
    "\n",
    "# 5. Split the Data Into Interesting Subsets\n",
    "\n",
    "The next thing you can check is if you can create any subsets of data and have a look at conditional distributions over these subsets. For example, you might be interested, to know whether there are more rides on the weekend than during the week, or if people tip more on weekends. This can help you figure out whether there are any differences in demand during the week and helps you adjust the supply of drivers.\n",
    "\n",
    "For this you will first create a new column called `weekday`, where you will store the information on the day of the week."
   ]
  },
  {
   "cell_type": "code",
   "execution_count": 10,
   "metadata": {},
   "outputs": [
    {
     "data": {
      "text/html": [
       "<div>\n",
       "<style scoped>\n",
       "    .dataframe tbody tr th:only-of-type {\n",
       "        vertical-align: middle;\n",
       "    }\n",
       "\n",
       "    .dataframe tbody tr th {\n",
       "        vertical-align: top;\n",
       "    }\n",
       "\n",
       "    .dataframe thead th {\n",
       "        text-align: right;\n",
       "    }\n",
       "</style>\n",
       "<table border=\"1\" class=\"dataframe\">\n",
       "  <thead>\n",
       "    <tr style=\"text-align: right;\">\n",
       "      <th></th>\n",
       "      <th>trip_start_timestamp</th>\n",
       "      <th>trip_seconds</th>\n",
       "      <th>trip_miles</th>\n",
       "      <th>fare</th>\n",
       "      <th>tip</th>\n",
       "      <th>additional_charges</th>\n",
       "      <th>trip_total</th>\n",
       "      <th>shared_trip_authorized</th>\n",
       "      <th>trips_pooled</th>\n",
       "      <th>pickup_centroid_latitude</th>\n",
       "      <th>pickup_centroid_longitude</th>\n",
       "      <th>dropoff_centroid_latitude</th>\n",
       "      <th>dropoff_centroid_longitude</th>\n",
       "      <th>date</th>\n",
       "      <th>weekday</th>\n",
       "    </tr>\n",
       "  </thead>\n",
       "  <tbody>\n",
       "    <tr>\n",
       "      <th>0</th>\n",
       "      <td>2022-01-01</td>\n",
       "      <td>3905.0</td>\n",
       "      <td>44.5</td>\n",
       "      <td>55.0</td>\n",
       "      <td>0.0</td>\n",
       "      <td>11.25</td>\n",
       "      <td>66.25</td>\n",
       "      <td>0</td>\n",
       "      <td>1</td>\n",
       "      <td>41.972563</td>\n",
       "      <td>-87.678846</td>\n",
       "      <td>NaN</td>\n",
       "      <td>NaN</td>\n",
       "      <td>2022-01-01</td>\n",
       "      <td>Saturday</td>\n",
       "    </tr>\n",
       "    <tr>\n",
       "      <th>1</th>\n",
       "      <td>2022-01-01</td>\n",
       "      <td>2299.0</td>\n",
       "      <td>25.0</td>\n",
       "      <td>32.5</td>\n",
       "      <td>7.0</td>\n",
       "      <td>7.18</td>\n",
       "      <td>46.68</td>\n",
       "      <td>0</td>\n",
       "      <td>1</td>\n",
       "      <td>41.878866</td>\n",
       "      <td>-87.625192</td>\n",
       "      <td>NaN</td>\n",
       "      <td>NaN</td>\n",
       "      <td>2022-01-01</td>\n",
       "      <td>Saturday</td>\n",
       "    </tr>\n",
       "    <tr>\n",
       "      <th>2</th>\n",
       "      <td>2022-01-01</td>\n",
       "      <td>275.0</td>\n",
       "      <td>1.5</td>\n",
       "      <td>7.5</td>\n",
       "      <td>0.0</td>\n",
       "      <td>1.02</td>\n",
       "      <td>8.52</td>\n",
       "      <td>0</td>\n",
       "      <td>1</td>\n",
       "      <td>41.792357</td>\n",
       "      <td>-87.617931</td>\n",
       "      <td>41.812949</td>\n",
       "      <td>-87.617860</td>\n",
       "      <td>2022-01-01</td>\n",
       "      <td>Saturday</td>\n",
       "    </tr>\n",
       "    <tr>\n",
       "      <th>3</th>\n",
       "      <td>2022-01-01</td>\n",
       "      <td>243.0</td>\n",
       "      <td>1.0</td>\n",
       "      <td>5.0</td>\n",
       "      <td>0.0</td>\n",
       "      <td>2.36</td>\n",
       "      <td>7.36</td>\n",
       "      <td>0</td>\n",
       "      <td>1</td>\n",
       "      <td>41.936310</td>\n",
       "      <td>-87.651563</td>\n",
       "      <td>41.943155</td>\n",
       "      <td>-87.640698</td>\n",
       "      <td>2022-01-01</td>\n",
       "      <td>Saturday</td>\n",
       "    </tr>\n",
       "    <tr>\n",
       "      <th>4</th>\n",
       "      <td>2022-01-01</td>\n",
       "      <td>364.0</td>\n",
       "      <td>1.3</td>\n",
       "      <td>5.0</td>\n",
       "      <td>0.0</td>\n",
       "      <td>2.36</td>\n",
       "      <td>7.36</td>\n",
       "      <td>0</td>\n",
       "      <td>1</td>\n",
       "      <td>41.921855</td>\n",
       "      <td>-87.646211</td>\n",
       "      <td>41.936237</td>\n",
       "      <td>-87.656412</td>\n",
       "      <td>2022-01-01</td>\n",
       "      <td>Saturday</td>\n",
       "    </tr>\n",
       "  </tbody>\n",
       "</table>\n",
       "</div>"
      ],
      "text/plain": [
       "  trip_start_timestamp  trip_seconds  trip_miles  fare  tip  \\\n",
       "0           2022-01-01        3905.0        44.5  55.0  0.0   \n",
       "1           2022-01-01        2299.0        25.0  32.5  7.0   \n",
       "2           2022-01-01         275.0         1.5   7.5  0.0   \n",
       "3           2022-01-01         243.0         1.0   5.0  0.0   \n",
       "4           2022-01-01         364.0         1.3   5.0  0.0   \n",
       "\n",
       "   additional_charges  trip_total  shared_trip_authorized  trips_pooled  \\\n",
       "0               11.25       66.25                       0             1   \n",
       "1                7.18       46.68                       0             1   \n",
       "2                1.02        8.52                       0             1   \n",
       "3                2.36        7.36                       0             1   \n",
       "4                2.36        7.36                       0             1   \n",
       "\n",
       "   pickup_centroid_latitude  pickup_centroid_longitude  \\\n",
       "0                 41.972563                 -87.678846   \n",
       "1                 41.878866                 -87.625192   \n",
       "2                 41.792357                 -87.617931   \n",
       "3                 41.936310                 -87.651563   \n",
       "4                 41.921855                 -87.646211   \n",
       "\n",
       "   dropoff_centroid_latitude  dropoff_centroid_longitude       date   weekday  \n",
       "0                        NaN                         NaN 2022-01-01  Saturday  \n",
       "1                        NaN                         NaN 2022-01-01  Saturday  \n",
       "2                  41.812949                  -87.617860 2022-01-01  Saturday  \n",
       "3                  41.943155                  -87.640698 2022-01-01  Saturday  \n",
       "4                  41.936237                  -87.656412 2022-01-01  Saturday  "
      ]
     },
     "execution_count": 10,
     "metadata": {},
     "output_type": "execute_result"
    }
   ],
   "source": [
    "# Extracting the day of the week is simple when you have it in datetime format.\n",
    "df['weekday'] = df[\"date\"].dt.day_name()\n",
    "\n",
    "df.head()"
   ]
  },
  {
   "cell_type": "markdown",
   "metadata": {},
   "source": [
    "Now you can count the number of riders on a given day of the week."
   ]
  },
  {
   "cell_type": "code",
   "execution_count": 11,
   "metadata": {},
   "outputs": [
    {
     "data": {
      "text/plain": [
       "weekday\n",
       "Monday        79013\n",
       "Tuesday       82576\n",
       "Wednesday     88034\n",
       "Thursday      95721\n",
       "Friday       115923\n",
       "Saturday     132872\n",
       "Sunday        96959\n",
       "Name: count, dtype: int64"
      ]
     },
     "execution_count": 11,
     "metadata": {},
     "output_type": "execute_result"
    }
   ],
   "source": [
    "# Count the number of rides each day\n",
    "daily_ride_counts = df['weekday'].value_counts()\n",
    "\n",
    "# List of weekdays. You will use it to reorder the counts, as they are in random order.\n",
    "WEEKDAYS = ['Monday', 'Tuesday', 'Wednesday', 'Thursday', 'Friday', 'Saturday', 'Sunday']\n",
    "\n",
    "# Reorder the series given weekdays\n",
    "daily_ride_counts = daily_ride_counts.reindex(WEEKDAYS)\n",
    "\n",
    "daily_ride_counts"
   ]
  },
  {
   "cell_type": "markdown",
   "metadata": {},
   "source": [
    "And in the same manner, you will calculate the number of tippers on a given day of the week."
   ]
  },
  {
   "cell_type": "code",
   "execution_count": 12,
   "metadata": {},
   "outputs": [
    {
     "data": {
      "text/plain": [
       "weekday\n",
       "Monday       19779\n",
       "Tuesday      20898\n",
       "Wednesday    22691\n",
       "Thursday     24210\n",
       "Friday       29256\n",
       "Saturday     33215\n",
       "Sunday       23294\n",
       "Name: count, dtype: int64"
      ]
     },
     "execution_count": 12,
     "metadata": {},
     "output_type": "execute_result"
    }
   ],
   "source": [
    "df_tippers = df[df['tip'] > 0]\n",
    "# Count the number of tips given each day\n",
    "daily_tippers_counts = df_tippers['weekday'].value_counts()\n",
    "\n",
    "# Reorder the series given weekdays\n",
    "daily_tippers_counts = daily_tippers_counts.reindex(WEEKDAYS)\n",
    "\n",
    "daily_tippers_counts"
   ]
  },
  {
   "cell_type": "markdown",
   "metadata": {},
   "source": [
    "Now you can calculate the percentage of customers tipping on each day of the week."
   ]
  },
  {
   "cell_type": "code",
   "execution_count": 13,
   "metadata": {},
   "outputs": [
    {
     "data": {
      "text/html": [
       "<div>\n",
       "<style scoped>\n",
       "    .dataframe tbody tr th:only-of-type {\n",
       "        vertical-align: middle;\n",
       "    }\n",
       "\n",
       "    .dataframe tbody tr th {\n",
       "        vertical-align: top;\n",
       "    }\n",
       "\n",
       "    .dataframe thead th {\n",
       "        text-align: right;\n",
       "    }\n",
       "</style>\n",
       "<table border=\"1\" class=\"dataframe\">\n",
       "  <thead>\n",
       "    <tr style=\"text-align: right;\">\n",
       "      <th></th>\n",
       "      <th>ride_count</th>\n",
       "      <th>tippers_count</th>\n",
       "      <th>tips_percentage</th>\n",
       "    </tr>\n",
       "    <tr>\n",
       "      <th>weekday</th>\n",
       "      <th></th>\n",
       "      <th></th>\n",
       "      <th></th>\n",
       "    </tr>\n",
       "  </thead>\n",
       "  <tbody>\n",
       "    <tr>\n",
       "      <th>Monday</th>\n",
       "      <td>79013</td>\n",
       "      <td>19779</td>\n",
       "      <td>25.032590</td>\n",
       "    </tr>\n",
       "    <tr>\n",
       "      <th>Tuesday</th>\n",
       "      <td>82576</td>\n",
       "      <td>20898</td>\n",
       "      <td>25.307595</td>\n",
       "    </tr>\n",
       "    <tr>\n",
       "      <th>Wednesday</th>\n",
       "      <td>88034</td>\n",
       "      <td>22691</td>\n",
       "      <td>25.775269</td>\n",
       "    </tr>\n",
       "    <tr>\n",
       "      <th>Thursday</th>\n",
       "      <td>95721</td>\n",
       "      <td>24210</td>\n",
       "      <td>25.292256</td>\n",
       "    </tr>\n",
       "    <tr>\n",
       "      <th>Friday</th>\n",
       "      <td>115923</td>\n",
       "      <td>29256</td>\n",
       "      <td>25.237442</td>\n",
       "    </tr>\n",
       "    <tr>\n",
       "      <th>Saturday</th>\n",
       "      <td>132872</td>\n",
       "      <td>33215</td>\n",
       "      <td>24.997742</td>\n",
       "    </tr>\n",
       "    <tr>\n",
       "      <th>Sunday</th>\n",
       "      <td>96959</td>\n",
       "      <td>23294</td>\n",
       "      <td>24.024588</td>\n",
       "    </tr>\n",
       "  </tbody>\n",
       "</table>\n",
       "</div>"
      ],
      "text/plain": [
       "           ride_count  tippers_count  tips_percentage\n",
       "weekday                                              \n",
       "Monday          79013          19779        25.032590\n",
       "Tuesday         82576          20898        25.307595\n",
       "Wednesday       88034          22691        25.775269\n",
       "Thursday        95721          24210        25.292256\n",
       "Friday         115923          29256        25.237442\n",
       "Saturday       132872          33215        24.997742\n",
       "Sunday          96959          23294        24.024588"
      ]
     },
     "execution_count": 13,
     "metadata": {},
     "output_type": "execute_result"
    }
   ],
   "source": [
    "df_daily_aggregation = pd.concat([daily_ride_counts, daily_tippers_counts], axis=1, keys=['ride_count', 'tippers_count'])\n",
    "df_daily_aggregation[\"tips_percentage\"] = df_daily_aggregation['tippers_count'] / df_daily_aggregation['ride_count'] * 100\n",
    "\n",
    "df_daily_aggregation"
   ]
  },
  {
   "cell_type": "markdown",
   "metadata": {
    "id": "KslfM9UE9MTe"
   },
   "source": [
    "What you have just calculated are conditional probabilities: What is the probability of someone tipping, given a certain day of the week? Or if you write it with an equation: $ P(tip|weekday) $.\n",
    "Now you can have another look at the numbers and see if there are some important insights!\n",
    "\n",
    "You can see that there are significantly more rides on Fridays and Saturdays than on the other days of the week, however the percentage of the tippers does not change much.\n",
    "\n",
    "You can use the cell below to save your modified dataframe. You dont need to do that, as the dataframe for the next lab is already provided."
   ]
  },
  {
   "cell_type": "code",
   "execution_count": 14,
   "metadata": {},
   "outputs": [],
   "source": [
    "# Uncomment the line below if you want to save your dataframe.\n",
    "# df.to_csv(\"data/rideshare_2022_user.csv\", index=False)"
   ]
  },
  {
   "cell_type": "markdown",
   "metadata": {},
   "source": [
    "**Congratulations on finishing this lab.** You have used the implementation of quite a few concepts covered in this course: probabilities, distributions and conditional probabilities. On top of that you have practiced Pandas a little bit. If you liked this exercise, look out for another similar notebook next week!"
   ]
  }
 ],
 "metadata": {
  "colab": {
   "private_outputs": true,
   "provenance": []
  },
  "kernelspec": {
   "display_name": ".venv",
   "language": "python",
   "name": "python3"
  },
  "language_info": {
   "codemirror_mode": {
    "name": "ipython",
    "version": 3
   },
   "file_extension": ".py",
   "mimetype": "text/x-python",
   "name": "python",
   "nbconvert_exporter": "python",
   "pygments_lexer": "ipython3",
   "version": "3.11.2"
  }
 },
 "nbformat": 4,
 "nbformat_minor": 1
}
